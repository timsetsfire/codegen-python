{
 "cells": [
  {
   "cell_type": "code",
   "execution_count": 39,
   "metadata": {},
   "outputs": [
    {
     "name": "stdout",
     "output_type": "stream",
     "text": [
      "Looking in indexes: https://artifactory.int.datarobot.com/artifactory/api/pypi/python-all/simple\n",
      "Processing ./codegen_wrapper/dist/datarobot_codegen_wrapper-0.3.0-py3-none-any.whl\n",
      "Installing collected packages: datarobot-codegen-wrapper\n",
      "  Attempting uninstall: datarobot-codegen-wrapper\n",
      "    Found existing installation: datarobot-codegen-wrapper 0.2.0\n",
      "    Uninstalling datarobot-codegen-wrapper-0.2.0:\n",
      "      Successfully uninstalled datarobot-codegen-wrapper-0.2.0\n",
      "Successfully installed datarobot-codegen-wrapper-0.3.0\n",
      "\u001b[33mWARNING: You are using pip version 20.2.1; however, version 21.3.1 is available.\n",
      "You should consider upgrading via the '/Users/timothy.whittaker/.pyenv/versions/3.8.6/envs/mlops/bin/python3.8 -m pip install --upgrade pip' command.\u001b[0m\n"
     ]
    }
   ],
   "source": [
    "!pip install -U codegen_wrapper/dist/datarobot_codegen_wrapper-0.3.0-py3-none-any.whl"
   ]
  },
  {
   "cell_type": "code",
   "execution_count": 65,
   "metadata": {},
   "outputs": [],
   "source": [
    "import pandas as pd\n",
    "from datarobot.codegen_wrapper import CodegenPredictor\n",
    "import logging"
   ]
  },
  {
   "cell_type": "code",
   "execution_count": 66,
   "metadata": {},
   "outputs": [],
   "source": [
    "df = pd.read_csv(\"/Users/timothy.whittaker/Desktop/git/codegen-python/data/10K_Lending_Club_Loans20200608.csv\", encoding=\"latin-1\")"
   ]
  },
  {
   "cell_type": "code",
   "execution_count": 67,
   "metadata": {},
   "outputs": [
    {
     "name": "stderr",
     "output_type": "stream",
     "text": [
      "datarobot.codegen_wrapper - INFO - 2021-12-02 22:28:25,581 - ['/Users/timothy.whittaker/.pyenv/versions/3.8.6/envs/mlops/lib/python3.8/site-packages/datarobot/py4j-scoring-assembly-0.3.0.jar', '/Users/timothy.whittaker/.pyenv/versions/3.8.6/envs/mlops/lib/python3.8/site-packages/datarobot/py4j-scoring-assembly-0.2.0.jar']\n",
      "datarobot.codegen_wrapper - INFO - 2021-12-02 22:28:25,614 - java gateway - java -cp /Users/timothy.whittaker/.pyenv/versions/3.8.6/envs/mlops/lib/python3.8/site-packages/datarobot/py4j-scoring-assembly-0.3.0.jar:/Users/timothy.whittaker/.pyenv/versions/3.8.6/envs/mlops/lib/python3.8/site-packages/datarobot/py4j-scoring-assembly-0.2.0.jar:/var/folders/03/2vb2d9m901n3_n8yc7ry1rsr0000gp/T/tmpxk7j_dbl.jar com.github.timsetsfire.gateway.CodegenGateway 55294 55295 600000 600000 5f46b3719c3324244fb7c447\n",
      "datarobot.codegen_wrapper - INFO - 2021-12-02 22:28:25,638 - starting gateway localhost:55294\n",
      "datarobot.codegen_wrapper - INFO - 2021-12-02 22:28:26,643 - gateway started localhost:55294\n"
     ]
    }
   ],
   "source": [
    "jar = \"/Users/timothy.whittaker/Desktop/git/codegen-python/data/lib/5f46b3719c3324244fb7c447.jar\"\n",
    "lid = \"5f46b3719c3324244fb7c447\"\n",
    "cp = CodegenPredictor(lid, jar)\n",
    "cp.load_model()\n"
   ]
  },
  {
   "cell_type": "code",
   "execution_count": 68,
   "metadata": {},
   "outputs": [
    {
     "data": {
      "text/html": [
       "<div>\n",
       "<style scoped>\n",
       "    .dataframe tbody tr th:only-of-type {\n",
       "        vertical-align: middle;\n",
       "    }\n",
       "\n",
       "    .dataframe tbody tr th {\n",
       "        vertical-align: top;\n",
       "    }\n",
       "\n",
       "    .dataframe thead th {\n",
       "        text-align: right;\n",
       "    }\n",
       "</style>\n",
       "<table border=\"1\" class=\"dataframe\">\n",
       "  <thead>\n",
       "    <tr style=\"text-align: right;\">\n",
       "      <th></th>\n",
       "      <th>1</th>\n",
       "      <th>0</th>\n",
       "    </tr>\n",
       "  </thead>\n",
       "  <tbody>\n",
       "    <tr>\n",
       "      <th>0</th>\n",
       "      <td>0.067656</td>\n",
       "      <td>0.932344</td>\n",
       "    </tr>\n",
       "    <tr>\n",
       "      <th>1</th>\n",
       "      <td>0.209397</td>\n",
       "      <td>0.790603</td>\n",
       "    </tr>\n",
       "    <tr>\n",
       "      <th>2</th>\n",
       "      <td>0.078460</td>\n",
       "      <td>0.921540</td>\n",
       "    </tr>\n",
       "    <tr>\n",
       "      <th>3</th>\n",
       "      <td>0.125682</td>\n",
       "      <td>0.874318</td>\n",
       "    </tr>\n",
       "    <tr>\n",
       "      <th>4</th>\n",
       "      <td>0.034534</td>\n",
       "      <td>0.965466</td>\n",
       "    </tr>\n",
       "  </tbody>\n",
       "</table>\n",
       "</div>"
      ],
      "text/plain": [
       "          1         0\n",
       "0  0.067656  0.932344\n",
       "1  0.209397  0.790603\n",
       "2  0.078460  0.921540\n",
       "3  0.125682  0.874318\n",
       "4  0.034534  0.965466"
      ]
     },
     "execution_count": 68,
     "metadata": {},
     "output_type": "execute_result"
    }
   ],
   "source": [
    "cp.score(df.head())"
   ]
  },
  {
   "cell_type": "code",
   "execution_count": 69,
   "metadata": {},
   "outputs": [
    {
     "name": "stderr",
     "output_type": "stream",
     "text": [
      "datarobot.codegen_wrapper - INFO - 2021-12-02 22:28:29,035 - [b'55294,55295,600000,600000,5f46b3719c3324244fb7c447\\n', b'java port:55294\\n', b'python port:55295\\n', b'address:localhost/127.0.0.1\\n', b'pythonAddress:localhost/127.0.0.1\\n', b'starting Gateway\\n']\n"
     ]
    }
   ],
   "source": [
    "cp.terminate_gateway()"
   ]
  },
  {
   "cell_type": "code",
   "execution_count": 70,
   "metadata": {},
   "outputs": [
    {
     "name": "stderr",
     "output_type": "stream",
     "text": [
      "datarobot.codegen_wrapper - INFO - 2021-12-02 22:28:31,315 - ['/Users/timothy.whittaker/.pyenv/versions/3.8.6/envs/mlops/lib/python3.8/site-packages/datarobot/py4j-scoring-assembly-0.3.0.jar', '/Users/timothy.whittaker/.pyenv/versions/3.8.6/envs/mlops/lib/python3.8/site-packages/datarobot/py4j-scoring-assembly-0.2.0.jar']\n",
      "datarobot.codegen_wrapper - INFO - 2021-12-02 22:28:31,336 - java gateway - java -cp /Users/timothy.whittaker/.pyenv/versions/3.8.6/envs/mlops/lib/python3.8/site-packages/datarobot/py4j-scoring-assembly-0.3.0.jar:/Users/timothy.whittaker/.pyenv/versions/3.8.6/envs/mlops/lib/python3.8/site-packages/datarobot/py4j-scoring-assembly-0.2.0.jar:/var/folders/03/2vb2d9m901n3_n8yc7ry1rsr0000gp/T/tmpo091gvyu.jar com.github.timsetsfire.gateway.CodegenGateway 55298 55299 600000 600000 6181857b11c8714f72e80ea0\n",
      "datarobot.codegen_wrapper - INFO - 2021-12-02 22:28:31,348 - starting gateway localhost:55298\n",
      "datarobot.codegen_wrapper - INFO - 2021-12-02 22:28:32,356 - gateway started localhost:55298\n"
     ]
    }
   ],
   "source": [
    "ts = CodegenPredictor(\"6181857b11c8714f72e80ea0\", \"/Users/timothy.whittaker/Desktop/git/codegen-python/data/lib/ts6181857b11c8714f72e80ea0.jar\")\n",
    "ts.load_model()"
   ]
  },
  {
   "cell_type": "code",
   "execution_count": 71,
   "metadata": {},
   "outputs": [],
   "source": [
    "df = pd.read_csv(\"data/sales_multiseries_prediction.csv\")\n",
    "out = ts.score(df)"
   ]
  },
  {
   "cell_type": "code",
   "execution_count": 72,
   "metadata": {},
   "outputs": [
    {
     "data": {
      "text/html": [
       "<div>\n",
       "<style scoped>\n",
       "    .dataframe tbody tr th:only-of-type {\n",
       "        vertical-align: middle;\n",
       "    }\n",
       "\n",
       "    .dataframe tbody tr th {\n",
       "        vertical-align: top;\n",
       "    }\n",
       "\n",
       "    .dataframe thead th {\n",
       "        text-align: right;\n",
       "    }\n",
       "</style>\n",
       "<table border=\"1\" class=\"dataframe\">\n",
       "  <thead>\n",
       "    <tr style=\"text-align: right;\">\n",
       "      <th></th>\n",
       "      <th>Forecast Point</th>\n",
       "      <th>Forecast Timestamp</th>\n",
       "      <th>Forecast Distance</th>\n",
       "      <th>Series ID</th>\n",
       "      <th>Prediction</th>\n",
       "    </tr>\n",
       "  </thead>\n",
       "  <tbody>\n",
       "    <tr>\n",
       "      <th>0</th>\n",
       "      <td>06/15/14</td>\n",
       "      <td>06/16/14</td>\n",
       "      <td>1</td>\n",
       "      <td>Louisville</td>\n",
       "      <td>156134.632434</td>\n",
       "    </tr>\n",
       "    <tr>\n",
       "      <th>1</th>\n",
       "      <td>06/15/14</td>\n",
       "      <td>06/17/14</td>\n",
       "      <td>2</td>\n",
       "      <td>Louisville</td>\n",
       "      <td>156343.532811</td>\n",
       "    </tr>\n",
       "    <tr>\n",
       "      <th>2</th>\n",
       "      <td>06/15/14</td>\n",
       "      <td>06/18/14</td>\n",
       "      <td>3</td>\n",
       "      <td>Louisville</td>\n",
       "      <td>157072.604165</td>\n",
       "    </tr>\n",
       "    <tr>\n",
       "      <th>3</th>\n",
       "      <td>06/15/14</td>\n",
       "      <td>06/19/14</td>\n",
       "      <td>4</td>\n",
       "      <td>Louisville</td>\n",
       "      <td>158336.853095</td>\n",
       "    </tr>\n",
       "    <tr>\n",
       "      <th>4</th>\n",
       "      <td>06/15/14</td>\n",
       "      <td>06/20/14</td>\n",
       "      <td>5</td>\n",
       "      <td>Louisville</td>\n",
       "      <td>165563.566298</td>\n",
       "    </tr>\n",
       "    <tr>\n",
       "      <th>...</th>\n",
       "      <td>...</td>\n",
       "      <td>...</td>\n",
       "      <td>...</td>\n",
       "      <td>...</td>\n",
       "      <td>...</td>\n",
       "    </tr>\n",
       "    <tr>\n",
       "      <th>65</th>\n",
       "      <td>06/15/14</td>\n",
       "      <td>06/18/14</td>\n",
       "      <td>3</td>\n",
       "      <td>San Antonio</td>\n",
       "      <td>26511.184036</td>\n",
       "    </tr>\n",
       "    <tr>\n",
       "      <th>66</th>\n",
       "      <td>06/15/14</td>\n",
       "      <td>06/19/14</td>\n",
       "      <td>4</td>\n",
       "      <td>San Antonio</td>\n",
       "      <td>29081.244417</td>\n",
       "    </tr>\n",
       "    <tr>\n",
       "      <th>67</th>\n",
       "      <td>06/15/14</td>\n",
       "      <td>06/20/14</td>\n",
       "      <td>5</td>\n",
       "      <td>San Antonio</td>\n",
       "      <td>31083.262026</td>\n",
       "    </tr>\n",
       "    <tr>\n",
       "      <th>68</th>\n",
       "      <td>06/15/14</td>\n",
       "      <td>06/21/14</td>\n",
       "      <td>6</td>\n",
       "      <td>San Antonio</td>\n",
       "      <td>38291.879940</td>\n",
       "    </tr>\n",
       "    <tr>\n",
       "      <th>69</th>\n",
       "      <td>06/15/14</td>\n",
       "      <td>06/22/14</td>\n",
       "      <td>7</td>\n",
       "      <td>San Antonio</td>\n",
       "      <td>32810.764564</td>\n",
       "    </tr>\n",
       "  </tbody>\n",
       "</table>\n",
       "<p>70 rows × 5 columns</p>\n",
       "</div>"
      ],
      "text/plain": [
       "   Forecast Point Forecast Timestamp  Forecast Distance    Series ID  \\\n",
       "0        06/15/14           06/16/14                  1   Louisville   \n",
       "1        06/15/14           06/17/14                  2   Louisville   \n",
       "2        06/15/14           06/18/14                  3   Louisville   \n",
       "3        06/15/14           06/19/14                  4   Louisville   \n",
       "4        06/15/14           06/20/14                  5   Louisville   \n",
       "..            ...                ...                ...          ...   \n",
       "65       06/15/14           06/18/14                  3  San Antonio   \n",
       "66       06/15/14           06/19/14                  4  San Antonio   \n",
       "67       06/15/14           06/20/14                  5  San Antonio   \n",
       "68       06/15/14           06/21/14                  6  San Antonio   \n",
       "69       06/15/14           06/22/14                  7  San Antonio   \n",
       "\n",
       "       Prediction  \n",
       "0   156134.632434  \n",
       "1   156343.532811  \n",
       "2   157072.604165  \n",
       "3   158336.853095  \n",
       "4   165563.566298  \n",
       "..            ...  \n",
       "65   26511.184036  \n",
       "66   29081.244417  \n",
       "67   31083.262026  \n",
       "68   38291.879940  \n",
       "69   32810.764564  \n",
       "\n",
       "[70 rows x 5 columns]"
      ]
     },
     "execution_count": 72,
     "metadata": {},
     "output_type": "execute_result"
    }
   ],
   "source": [
    "out"
   ]
  },
  {
   "cell_type": "code",
   "execution_count": 73,
   "metadata": {},
   "outputs": [
    {
     "name": "stderr",
     "output_type": "stream",
     "text": [
      "datarobot.codegen_wrapper - INFO - 2021-12-02 22:28:38,863 - [b'55298,55299,600000,600000,6181857b11c8714f72e80ea0\\n', b'java port:55298\\n', b'python port:55299\\n', b'address:localhost/127.0.0.1\\n', b'pythonAddress:localhost/127.0.0.1\\n', b'starting Gateway\\n']\n"
     ]
    }
   ],
   "source": [
    "ts.terminate_gateway()"
   ]
  },
  {
   "cell_type": "code",
   "execution_count": 74,
   "metadata": {},
   "outputs": [],
   "source": [
    "import pickle\n",
    "ts.pickle(\"ts.pkl\")\n",
    "with open(\"ts.pkl\", \"rb\") as f:\n",
    "    ts2 = pickle.load(f)"
   ]
  },
  {
   "cell_type": "code",
   "execution_count": 75,
   "metadata": {},
   "outputs": [
    {
     "name": "stderr",
     "output_type": "stream",
     "text": [
      "datarobot.codegen_wrapper - INFO - 2021-12-02 22:28:45,116 - java gateway - java -cp /Users/timothy.whittaker/.pyenv/versions/3.8.6/envs/mlops/lib/python3.8/site-packages/datarobot/py4j-scoring-assembly-0.3.0.jar:/Users/timothy.whittaker/.pyenv/versions/3.8.6/envs/mlops/lib/python3.8/site-packages/datarobot/py4j-scoring-assembly-0.2.0.jar:/var/folders/03/2vb2d9m901n3_n8yc7ry1rsr0000gp/T/tmpo091gvyu.jar:/var/folders/03/2vb2d9m901n3_n8yc7ry1rsr0000gp/T/tmpoks_tlxa.jar com.github.timsetsfire.gateway.CodegenGateway 55303 55304 600000 600000 6181857b11c8714f72e80ea0\n",
      "datarobot.codegen_wrapper - INFO - 2021-12-02 22:28:45,139 - starting gateway localhost:55303\n",
      "datarobot.codegen_wrapper - INFO - 2021-12-02 22:28:46,189 - gateway started localhost:55303\n"
     ]
    }
   ],
   "source": [
    "ts2.load_model()"
   ]
  },
  {
   "cell_type": "code",
   "execution_count": 76,
   "metadata": {},
   "outputs": [
    {
     "data": {
      "text/html": [
       "<div>\n",
       "<style scoped>\n",
       "    .dataframe tbody tr th:only-of-type {\n",
       "        vertical-align: middle;\n",
       "    }\n",
       "\n",
       "    .dataframe tbody tr th {\n",
       "        vertical-align: top;\n",
       "    }\n",
       "\n",
       "    .dataframe thead th {\n",
       "        text-align: right;\n",
       "    }\n",
       "</style>\n",
       "<table border=\"1\" class=\"dataframe\">\n",
       "  <thead>\n",
       "    <tr style=\"text-align: right;\">\n",
       "      <th></th>\n",
       "      <th>Forecast Point</th>\n",
       "      <th>Forecast Timestamp</th>\n",
       "      <th>Forecast Distance</th>\n",
       "      <th>Series ID</th>\n",
       "      <th>Prediction</th>\n",
       "    </tr>\n",
       "  </thead>\n",
       "  <tbody>\n",
       "    <tr>\n",
       "      <th>0</th>\n",
       "      <td>06/15/14</td>\n",
       "      <td>06/16/14</td>\n",
       "      <td>1</td>\n",
       "      <td>Louisville</td>\n",
       "      <td>156134.632434</td>\n",
       "    </tr>\n",
       "    <tr>\n",
       "      <th>1</th>\n",
       "      <td>06/15/14</td>\n",
       "      <td>06/17/14</td>\n",
       "      <td>2</td>\n",
       "      <td>Louisville</td>\n",
       "      <td>156343.532811</td>\n",
       "    </tr>\n",
       "    <tr>\n",
       "      <th>2</th>\n",
       "      <td>06/15/14</td>\n",
       "      <td>06/18/14</td>\n",
       "      <td>3</td>\n",
       "      <td>Louisville</td>\n",
       "      <td>157072.604165</td>\n",
       "    </tr>\n",
       "    <tr>\n",
       "      <th>3</th>\n",
       "      <td>06/15/14</td>\n",
       "      <td>06/19/14</td>\n",
       "      <td>4</td>\n",
       "      <td>Louisville</td>\n",
       "      <td>158336.853095</td>\n",
       "    </tr>\n",
       "    <tr>\n",
       "      <th>4</th>\n",
       "      <td>06/15/14</td>\n",
       "      <td>06/20/14</td>\n",
       "      <td>5</td>\n",
       "      <td>Louisville</td>\n",
       "      <td>165563.566298</td>\n",
       "    </tr>\n",
       "    <tr>\n",
       "      <th>...</th>\n",
       "      <td>...</td>\n",
       "      <td>...</td>\n",
       "      <td>...</td>\n",
       "      <td>...</td>\n",
       "      <td>...</td>\n",
       "    </tr>\n",
       "    <tr>\n",
       "      <th>65</th>\n",
       "      <td>06/15/14</td>\n",
       "      <td>06/18/14</td>\n",
       "      <td>3</td>\n",
       "      <td>San Antonio</td>\n",
       "      <td>26511.184036</td>\n",
       "    </tr>\n",
       "    <tr>\n",
       "      <th>66</th>\n",
       "      <td>06/15/14</td>\n",
       "      <td>06/19/14</td>\n",
       "      <td>4</td>\n",
       "      <td>San Antonio</td>\n",
       "      <td>29081.244417</td>\n",
       "    </tr>\n",
       "    <tr>\n",
       "      <th>67</th>\n",
       "      <td>06/15/14</td>\n",
       "      <td>06/20/14</td>\n",
       "      <td>5</td>\n",
       "      <td>San Antonio</td>\n",
       "      <td>31083.262026</td>\n",
       "    </tr>\n",
       "    <tr>\n",
       "      <th>68</th>\n",
       "      <td>06/15/14</td>\n",
       "      <td>06/21/14</td>\n",
       "      <td>6</td>\n",
       "      <td>San Antonio</td>\n",
       "      <td>38291.879940</td>\n",
       "    </tr>\n",
       "    <tr>\n",
       "      <th>69</th>\n",
       "      <td>06/15/14</td>\n",
       "      <td>06/22/14</td>\n",
       "      <td>7</td>\n",
       "      <td>San Antonio</td>\n",
       "      <td>32810.764564</td>\n",
       "    </tr>\n",
       "  </tbody>\n",
       "</table>\n",
       "<p>70 rows × 5 columns</p>\n",
       "</div>"
      ],
      "text/plain": [
       "   Forecast Point Forecast Timestamp  Forecast Distance    Series ID  \\\n",
       "0        06/15/14           06/16/14                  1   Louisville   \n",
       "1        06/15/14           06/17/14                  2   Louisville   \n",
       "2        06/15/14           06/18/14                  3   Louisville   \n",
       "3        06/15/14           06/19/14                  4   Louisville   \n",
       "4        06/15/14           06/20/14                  5   Louisville   \n",
       "..            ...                ...                ...          ...   \n",
       "65       06/15/14           06/18/14                  3  San Antonio   \n",
       "66       06/15/14           06/19/14                  4  San Antonio   \n",
       "67       06/15/14           06/20/14                  5  San Antonio   \n",
       "68       06/15/14           06/21/14                  6  San Antonio   \n",
       "69       06/15/14           06/22/14                  7  San Antonio   \n",
       "\n",
       "       Prediction  \n",
       "0   156134.632434  \n",
       "1   156343.532811  \n",
       "2   157072.604165  \n",
       "3   158336.853095  \n",
       "4   165563.566298  \n",
       "..            ...  \n",
       "65   26511.184036  \n",
       "66   29081.244417  \n",
       "67   31083.262026  \n",
       "68   38291.879940  \n",
       "69   32810.764564  \n",
       "\n",
       "[70 rows x 5 columns]"
      ]
     },
     "execution_count": 76,
     "metadata": {},
     "output_type": "execute_result"
    }
   ],
   "source": [
    "ts2.score(df)"
   ]
  },
  {
   "cell_type": "code",
   "execution_count": 77,
   "metadata": {},
   "outputs": [
    {
     "name": "stderr",
     "output_type": "stream",
     "text": [
      "datarobot.codegen_wrapper - INFO - 2021-12-02 22:28:55,702 - [b'55303,55304,600000,600000,6181857b11c8714f72e80ea0\\n', b'java port:55303\\n', b'python port:55304\\n', b'address:localhost/127.0.0.1\\n', b'pythonAddress:localhost/127.0.0.1\\n', b'starting Gateway\\n']\n"
     ]
    }
   ],
   "source": [
    "ts2.terminate_gateway()"
   ]
  },
  {
   "cell_type": "code",
   "execution_count": null,
   "metadata": {},
   "outputs": [],
   "source": []
  }
 ],
 "metadata": {
  "kernelspec": {
   "display_name": "Python 3",
   "language": "python",
   "name": "python3"
  },
  "language_info": {
   "codemirror_mode": {
    "name": "ipython",
    "version": 3
   },
   "file_extension": ".py",
   "mimetype": "text/x-python",
   "name": "python",
   "nbconvert_exporter": "python",
   "pygments_lexer": "ipython3",
   "version": "3.8.6"
  }
 },
 "nbformat": 4,
 "nbformat_minor": 4
}
