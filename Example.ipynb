{
 "cells": [
  {
   "cell_type": "code",
   "execution_count": 1,
   "metadata": {},
   "outputs": [],
   "source": [
    "import pandas as pd\n",
    "from datarobot.codegen_wrapper import CodegenPredictor\n",
    "import logging"
   ]
  },
  {
   "cell_type": "code",
   "execution_count": 2,
   "metadata": {},
   "outputs": [],
   "source": [
    "df = pd.read_csv(\"./data/10K_Lending_Club_Loans20200608.csv\", encoding=\"latin-1\")"
   ]
  },
  {
   "cell_type": "code",
   "execution_count": 3,
   "metadata": {},
   "outputs": [
    {
     "name": "stderr",
     "output_type": "stream",
     "text": [
      "datarobot.codegen_wrapper - INFO - 2021-11-17 10:32:29,779 - ['/Users/timothy.whittaker/.pyenv/versions/3.8.6/envs/mlops/lib/python3.8/site-packages/datarobot/py4j-scoring-assembly-0.1.0-SNAPSHOT.jar', '/Users/timothy.whittaker/Desktop/git/codegen-python/data/5d5da72a3fa59e2850f824fc.jar']\n",
      "datarobot.codegen_wrapper - INFO - 2021-11-17 10:32:29,782 - java gateway - java -cp /Users/timothy.whittaker/.pyenv/versions/3.8.6/envs/mlops/lib/python3.8/site-packages/datarobot/py4j-scoring-assembly-0.1.0-SNAPSHOT.jar:/Users/timothy.whittaker/Desktop/git/codegen-python/data/5d5da72a3fa59e2850f824fc.jar com.github.timsetsfire.gateway.CodegenGateway 53745 53746 600000 600000 5d5da72a3fa59e2850f824fc\n",
      "datarobot.codegen_wrapper - INFO - 2021-11-17 10:32:29,792 - starting gateway localhost:53745\n",
      "datarobot.codegen_wrapper - INFO - 2021-11-17 10:32:30,797 - gateway started localhost:53745\n"
     ]
    },
    {
     "data": {
      "text/html": [
       "<div>\n",
       "<style scoped>\n",
       "    .dataframe tbody tr th:only-of-type {\n",
       "        vertical-align: middle;\n",
       "    }\n",
       "\n",
       "    .dataframe tbody tr th {\n",
       "        vertical-align: top;\n",
       "    }\n",
       "\n",
       "    .dataframe thead th {\n",
       "        text-align: right;\n",
       "    }\n",
       "</style>\n",
       "<table border=\"1\" class=\"dataframe\">\n",
       "  <thead>\n",
       "    <tr style=\"text-align: right;\">\n",
       "      <th></th>\n",
       "      <th>1</th>\n",
       "      <th>0</th>\n",
       "    </tr>\n",
       "  </thead>\n",
       "  <tbody>\n",
       "    <tr>\n",
       "      <th>0</th>\n",
       "      <td>0.036669</td>\n",
       "      <td>0.963331</td>\n",
       "    </tr>\n",
       "    <tr>\n",
       "      <th>1</th>\n",
       "      <td>0.302976</td>\n",
       "      <td>0.697024</td>\n",
       "    </tr>\n",
       "    <tr>\n",
       "      <th>2</th>\n",
       "      <td>0.061485</td>\n",
       "      <td>0.938515</td>\n",
       "    </tr>\n",
       "    <tr>\n",
       "      <th>3</th>\n",
       "      <td>0.106788</td>\n",
       "      <td>0.893212</td>\n",
       "    </tr>\n",
       "    <tr>\n",
       "      <th>4</th>\n",
       "      <td>0.029014</td>\n",
       "      <td>0.970986</td>\n",
       "    </tr>\n",
       "  </tbody>\n",
       "</table>\n",
       "</div>"
      ],
      "text/plain": [
       "          1         0\n",
       "0  0.036669  0.963331\n",
       "1  0.302976  0.697024\n",
       "2  0.061485  0.938515\n",
       "3  0.106788  0.893212\n",
       "4  0.029014  0.970986"
      ]
     },
     "execution_count": 3,
     "metadata": {},
     "output_type": "execute_result"
    }
   ],
   "source": [
    "jar = \"./data/5d5da72a3fa59e2850f824fc.jar\"\n",
    "lid = \"5d5da72a3fa59e2850f824fc\"\n",
    "cp = CodegenPredictor(lid, jar)\n",
    "cp.load_model()\n",
    "cp.score(df.head())"
   ]
  }
 ],
 "metadata": {
  "kernelspec": {
   "display_name": "Python 3",
   "language": "python",
   "name": "python3"
  },
  "language_info": {
   "codemirror_mode": {
    "name": "ipython",
    "version": 3
   },
   "file_extension": ".py",
   "mimetype": "text/x-python",
   "name": "python",
   "nbconvert_exporter": "python",
   "pygments_lexer": "ipython3",
   "version": "3.8.6"
  }
 },
 "nbformat": 4,
 "nbformat_minor": 4
}
